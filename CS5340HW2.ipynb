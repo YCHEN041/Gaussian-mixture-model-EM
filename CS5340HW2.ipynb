{
 "cells": [
  {
   "cell_type": "code",
   "execution_count": null,
   "metadata": {
    "collapsed": false
   },
   "outputs": [
    {
     "name": "stdout",
     "output_type": "stream",
     "text": [
      "Image shape is:  (534, 800, 3)\n"
     ]
    }
   ],
   "source": [
    "import cv2\n",
    "import numpy as np\n",
    "import math\n",
    "\n",
    "\"\"\"\n",
    "Each variable x represents each pixel with RGB value, which is 3 dimensional vector.\n",
    "To do foreground background segmentation, set number of cluster K = 2.\n",
    "\"\"\"\n",
    "\n",
    "def Initialization(K, height, width, channel):\n",
    "    # pi is the mixing coefficient (prior probability). \n",
    "    # K dimensional vector. equal probable for every class.\n",
    "    # pi's elements sum up to 1.\n",
    "    pi = np.repeat(np.array([1.0/K]),K) \n",
    "    \n",
    "    # u represtns mean  of the mixture Gaussian model. K dim 3d-array.\n",
    "    # random initialization performs well for cow, fox, zebra\n",
    "    # for the owl case: u = np.array([[239,244,245],[104,140,170]])\n",
    "    u = 255.0*np.random.rand(K,channel) \n",
    "    \n",
    "    # covmat is the variance of the mixture Gaussian model. K*channel*channel tensor.\n",
    "    covmat = np.repeat(np.array([[[255.0,0.0,0.0],[0.0,255.0,0.0],[0.0,0.0,255.0]]]),K,axis=0)\n",
    "    \n",
    "    # The table of conditional distribution probability. K*height*width tensor.\n",
    "    probmat = np.zeros([K,height,width])\n",
    "    \n",
    "    # The deviation of pixel value from the mean: x2 = x - u.\n",
    "    # K*height*width*channel tensor.\n",
    "    x2 = np.zeros([K,height,width,channel])\n",
    "    \n",
    "    return pi, u, covmat, probmat, x2\n",
    "\n",
    "\n",
    "img = cv2.imread('fox.jpg')\n",
    "(height,width,channel)=img.shape\n",
    "print(\"Image shape is: \", img.shape)\n",
    "\n",
    "#number of clusters\n",
    "K = 2000\n",
    "\n",
    "#Initialization\n",
    "pi, u, covmat, probmat, x2 = Initialization(K, height, width, channel)"
   ]
  },
  {
   "cell_type": "code",
   "execution_count": null,
   "metadata": {
    "collapsed": false,
    "scrolled": true
   },
   "outputs": [
    {
     "name": "stdout",
     "output_type": "stream",
     "text": [
      "Iteration =  0\n",
      "covmatDet= 16581375.0\n",
      "covmatDet= 16581375.0\n",
      "covmatDet= 16581375.0\n",
      "covmatDet= 16581375.0\n",
      "covmatDet= 16581375.0\n",
      "covmatDet= 16581375.0\n",
      "covmatDet= 16581375.0\n",
      "covmatDet= 16581375.0\n",
      "covmatDet= 16581375.0\n",
      "covmatDet= 16581375.0\n",
      "covmatDet= 16581375.0\n",
      "covmatDet= 16581375.0\n",
      "covmatDet= 16581375.0\n",
      "covmatDet= 16581375.0\n",
      "covmatDet= 16581375.0\n",
      "covmatDet= 16581375.0\n",
      "covmatDet= 16581375.0\n",
      "covmatDet= 16581375.0\n",
      "covmatDet= 16581375.0\n",
      "covmatDet= 16581375.0\n"
     ]
    }
   ],
   "source": [
    "\"\"\"\n",
    "This cell runs the EM algorithm. Can be run multiple times to increase iterations.\n",
    "\"\"\"\n",
    "total_iteration = 5\n",
    "for i in range(total_iteration):\n",
    "    print(\"Iteration = \",i)\n",
    "    \n",
    "    #==========================E step. Update gamma===========================\n",
    "    \n",
    "    # Determinant of the covmat. K dimentional vector.\n",
    "    covmatDet = np.linalg.det(covmat)\n",
    "    for k in range(K):    \n",
    "        if k%100==0:    \n",
    "            print(\"covmatDet=\",covmatDet[k])\n",
    "    \n",
    "    # Inverse of the covmat. Used in calculation of normal probability.\n",
    "    # K*channel*channel tensor\n",
    "    covmatInv = np.linalg.inv(covmat)\n",
    "    \n",
    "    # ------- update x2 ----------\n",
    "    for k in range(K):    \n",
    "        x2[k] = img - u[k]\n",
    "    \n",
    "    # ------- update probmat --------\n",
    "    probmat = np.einsum(\"a, abc -> abc\", \n",
    "                        1/np.sqrt(2*math.pi*covmatDet), \n",
    "                        np.exp(-0.5* (x2*np.einsum(\"aed, abcd -> abce\", covmatInv, x2)).sum(axis=3)))\n",
    "\n",
    "    # ------- update gamma --------\n",
    "    # completeProbmat is the posterior distribution probabililty. K*height*width tensor. \n",
    "    completeProbmat = np.einsum(\"a, abc -> abc\", pi, probmat)\n",
    "    completeProbmatSumRec = 1/completeProbmat.sum(axis=0) #denominator\n",
    "    \n",
    "    # Gamma is the responsibility.\n",
    "    gamma = completeProbmat * completeProbmatSumRec\n",
    "\n",
    "    \n",
    "    #====================M step. Update pi, u, covmat===========================\n",
    "    \n",
    "    # ------- Update N and pi-------\n",
    "    N = gamma.sum(axis=1).sum(axis=1)\n",
    "    pi = N/(gamma.sum())\n",
    "    # print(\"Value of pi = \",pi)\n",
    "    \n",
    "    # ------- Update u ---------\n",
    "    u = np.einsum(\"a, ab -> ab\", 1/N, np.einsum(\"abc, bcd -> ad\", gamma, img))\n",
    "    \n",
    "    # -------- Update covmat -------\n",
    "    for k in range(K):    \n",
    "        x2[k] = img - u[k]\n",
    "    x_mat = np.einsum(\"abcd, abce -> abcde\", x2, x2)\n",
    "    covmat = np.einsum(\"a, abc -> abc\", 1/N, np.einsum(\"abc, abcde -> ade\", gamma, x_mat))\n",
    "    # --------- check the singularity of covmat --------\n",
    "    for k in range(K):\n",
    "        if np.linalg.det(covmat[k])<1.0:\n",
    "            # print(\"Near exception!\")\n",
    "            covmat[k] = np.array([[10.0,0.0,0.0],[0.0,10.0,0.0],[0.0,0.0,10.0]])\n",
    "    print(\"fraction = \",pi)"
   ]
  },
  {
   "cell_type": "code",
   "execution_count": null,
   "metadata": {
    "collapsed": false
   },
   "outputs": [],
   "source": [
    "\"\"\"\n",
    "Show filter.\n",
    "\"\"\"\n",
    "\n",
    "heatmap = np.zeros([height,width,3])\n",
    "for h in range(height):\n",
    "    for w in range(width):\n",
    "        heatmap[h,w,:] = np.array(u[np.argmax(probmat[:,h,w])],dtype=float)\n",
    "\n",
    "cv2.imwrite(\"fox_2000_5.jpg\",heatmap)"
   ]
  },
  {
   "cell_type": "code",
   "execution_count": null,
   "metadata": {
    "collapsed": true
   },
   "outputs": [],
   "source": []
  },
  {
   "cell_type": "code",
   "execution_count": null,
   "metadata": {
    "collapsed": false
   },
   "outputs": [],
   "source": []
  },
  {
   "cell_type": "code",
   "execution_count": null,
   "metadata": {
    "collapsed": false
   },
   "outputs": [],
   "source": []
  },
  {
   "cell_type": "code",
   "execution_count": null,
   "metadata": {
    "collapsed": false
   },
   "outputs": [],
   "source": []
  },
  {
   "cell_type": "code",
   "execution_count": null,
   "metadata": {
    "collapsed": false
   },
   "outputs": [],
   "source": []
  },
  {
   "cell_type": "code",
   "execution_count": null,
   "metadata": {
    "collapsed": false
   },
   "outputs": [],
   "source": []
  }
 ],
 "metadata": {
  "kernelspec": {
   "display_name": "Python 3",
   "language": "python",
   "name": "python3"
  },
  "language_info": {
   "codemirror_mode": {
    "name": "ipython",
    "version": 3
   },
   "file_extension": ".py",
   "mimetype": "text/x-python",
   "name": "python",
   "nbconvert_exporter": "python",
   "pygments_lexer": "ipython3",
   "version": "3.6.0"
  }
 },
 "nbformat": 4,
 "nbformat_minor": 2
}
